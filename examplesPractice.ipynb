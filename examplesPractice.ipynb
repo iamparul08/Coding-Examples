{
 "cells": [
  {
   "cell_type": "code",
   "execution_count": null,
   "metadata": {},
   "outputs": [],
   "source": [
    "#1to get the version of Python "
   ]
  },
  {
   "cell_type": "code",
   "execution_count": 4,
   "metadata": {},
   "outputs": [
    {
     "name": "stdout",
     "output_type": "stream",
     "text": [
      "Print Version: \n",
      "3.7.3 (default, Mar 27 2019, 17:13:21) [MSC v.1915 64 bit (AMD64)]\n"
     ]
    }
   ],
   "source": [
    "import sys\n",
    "print(\"Print Version: \")\n",
    "print(sys.version)"
   ]
  },
  {
   "cell_type": "code",
   "execution_count": 5,
   "metadata": {},
   "outputs": [],
   "source": [
    "#2input radius and calculate the area"
   ]
  },
  {
   "cell_type": "code",
   "execution_count": 6,
   "metadata": {},
   "outputs": [
    {
     "name": "stdout",
     "output_type": "stream",
     "text": [
      "Input the radius of circle: 3\n",
      "The area of circle with radius: 3.0 is: 28.274333882308138\n"
     ]
    }
   ],
   "source": [
    "from math import pi\n",
    "r = float(input(\"Input the radius of circle: \"))\n",
    "print(\"The area of circle with radius: \" + str(r) + \" is: \" + str(pi*r**2))"
   ]
  },
  {
   "cell_type": "code",
   "execution_count": 7,
   "metadata": {},
   "outputs": [
    {
     "name": "stdout",
     "output_type": "stream",
     "text": [
      "Enter your first name: Parul\n",
      "Enter your last name: Mathur\n",
      "Hello Mathur Parul\n"
     ]
    }
   ],
   "source": [
    "'''3Write a Python program which accepts the user's first and last name and print them in reverse order with a space bet\n",
    "ween them.'''\n",
    "fname = input(\"Enter your first name: \")\n",
    "lname = input(\"Enter your last name: \")\n",
    "print(\"Hello \" + lname + \" \" + fname) "
   ]
  },
  {
   "cell_type": "code",
   "execution_count": 2,
   "metadata": {},
   "outputs": [],
   "source": [
    "#4input filename and print the extension of the file"
   ]
  },
  {
   "cell_type": "code",
   "execution_count": 12,
   "metadata": {},
   "outputs": [
    {
     "name": "stdout",
     "output_type": "stream",
     "text": [
      "Input filename with it's extension : parul.py\n",
      "The extension of file is: 'py'\n"
     ]
    }
   ],
   "source": [
    "filename = input(\"Input filename with it's extension : \")\n",
    "f_extns = filename.split(\".\")\n",
    "print(\"The extension of file is: \" + repr(f_extns[-1]))"
   ]
  },
  {
   "cell_type": "code",
   "execution_count": 16,
   "metadata": {},
   "outputs": [],
   "source": [
    "#5to display first and last color "
   ]
  },
  {
   "cell_type": "code",
   "execution_count": 1,
   "metadata": {},
   "outputs": [
    {
     "name": "stdout",
     "output_type": "stream",
     "text": [
      "red black\n"
     ]
    }
   ],
   "source": [
    "color = [\"red\", \"blue\", \"green\", \"blue\", \"black\"]\n",
    "print(color[0], color[-1])"
   ]
  },
  {
   "cell_type": "code",
   "execution_count": 27,
   "metadata": {},
   "outputs": [],
   "source": [
    "#6Write a Python program to display the examination schedule."
   ]
  },
  {
   "cell_type": "code",
   "execution_count": 28,
   "metadata": {},
   "outputs": [
    {
     "name": "stdout",
     "output_type": "stream",
     "text": [
      "(15, 7, 2019)\n"
     ]
    }
   ],
   "source": [
    "exam_st_date = (15,7,2019)\n",
    "print(exam_st_date)"
   ]
  },
  {
   "cell_type": "code",
   "execution_count": 30,
   "metadata": {},
   "outputs": [
    {
     "name": "stdout",
     "output_type": "stream",
     "text": [
      "(25, 7, 2019)\n"
     ]
    }
   ],
   "source": [
    "exam_end_date = (25,7,2019)\n",
    "print(exam_end_date)"
   ]
  },
  {
   "cell_type": "code",
   "execution_count": 31,
   "metadata": {},
   "outputs": [],
   "source": [
    "#7print calender"
   ]
  },
  {
   "cell_type": "code",
   "execution_count": 7,
   "metadata": {},
   "outputs": [],
   "source": [
    "import calendar"
   ]
  },
  {
   "cell_type": "code",
   "execution_count": 9,
   "metadata": {},
   "outputs": [
    {
     "name": "stdout",
     "output_type": "stream",
     "text": [
      "Enter the year: 2019\n",
      "Enter the month in numerical form: 2\n",
      "   February 2019\n",
      "Mo Tu We Th Fr Sa Su\n",
      "             1  2  3\n",
      " 4  5  6  7  8  9 10\n",
      "11 12 13 14 15 16 17\n",
      "18 19 20 21 22 23 24\n",
      "25 26 27 28\n",
      "\n"
     ]
    }
   ],
   "source": [
    "y = int(input(\"Enter the year: \"))\n",
    "m = int(input(\"Enter the month in numerical form: \"))\n",
    "print(calendar.month(y, m))"
   ]
  },
  {
   "cell_type": "code",
   "execution_count": 36,
   "metadata": {},
   "outputs": [],
   "source": [
    "#8input two dates and calculate the number of days in between"
   ]
  },
  {
   "cell_type": "code",
   "execution_count": 41,
   "metadata": {},
   "outputs": [
    {
     "name": "stdout",
     "output_type": "stream",
     "text": [
      "9\n"
     ]
    }
   ],
   "source": [
    "from datetime import date\n",
    "f_date = date(2014, 7, 2)\n",
    "l_date = date(2014, 7, 11)\n",
    "diff = l_date - f_date\n",
    "print(diff.days)"
   ]
  },
  {
   "cell_type": "code",
   "execution_count": 42,
   "metadata": {},
   "outputs": [],
   "source": [
    "#9get the volume of the sphere with input radius"
   ]
  },
  {
   "cell_type": "code",
   "execution_count": 45,
   "metadata": {},
   "outputs": [
    {
     "name": "stdout",
     "output_type": "stream",
     "text": [
      "Enter the radius of sphere3\n",
      "3\n",
      "Volume of sphere is:  113.14285714285712\n"
     ]
    }
   ],
   "source": [
    "r = int(input(\"Enter the radius of sphere\"))\n",
    "print(r)\n",
    "pi = 22/7\n",
    "vol = 4/3*pi*r**3\n",
    "print(\"Volume of sphere is: \", vol)"
   ]
  },
  {
   "cell_type": "code",
   "execution_count": 51,
   "metadata": {},
   "outputs": [
    {
     "name": "stdout",
     "output_type": "stream",
     "text": [
      "Enter any number: 50\n"
     ]
    },
    {
     "data": {
      "text/plain": [
       "66"
      ]
     },
     "execution_count": 51,
     "metadata": {},
     "output_type": "execute_result"
    }
   ],
   "source": [
    "'''10. program to get the difference between a given\n",
    "number and 17, if the number is greater than 17, return double the absolute difference.'''\n",
    "\n",
    "def difference(a):\n",
    "    if a <= 17:\n",
    "        return 17 - a \n",
    "    else:\n",
    "        return (a-17) * 2\n",
    "a = int(input(\"Enter any number: \"))\n",
    "difference(a)\n"
   ]
  },
  {
   "cell_type": "code",
   "execution_count": 1,
   "metadata": {},
   "outputs": [
    {
     "name": "stdout",
     "output_type": "stream",
     "text": [
      "27\n",
      "99\n"
     ]
    }
   ],
   "source": [
    " #11. program to calculate the sum of three given numbers, if the values are equal then return thrice of their sum.\n",
    "\n",
    "def sum_thrice(x, y, z):\n",
    "    if x == y == z:\n",
    "        sum = (x + y + z) * 3\n",
    "        return sum\n",
    "    \n",
    "    else:\n",
    "        sum = x + y + z\n",
    "        return sum\n",
    "    \n",
    "print(sum_thrice(3, 3, 3))\n",
    "print(sum_thrice(22, 33, 44))"
   ]
  },
  {
   "cell_type": "code",
   "execution_count": 12,
   "metadata": {},
   "outputs": [
    {
     "name": "stdout",
     "output_type": "stream",
     "text": [
      "IsArray\n",
      "IsEmpty\n"
     ]
    }
   ],
   "source": [
    "'''12.  program to get a new string from a given string where \"Is\" has been added to the front. \n",
    "If the given string already begins with \"Is\" then return the string unchanged.'''\n",
    "\n",
    "def new_string(str):\n",
    "  if len(str) >= 2 and str[:2] == \"Is\":\n",
    "    return str\n",
    "  return \"Is\" + str\n",
    "\n",
    "print(new_string(\"Array\"))\n",
    "print(new_string(\"IsEmpty\"))"
   ]
  },
  {
   "cell_type": "code",
   "execution_count": 9,
   "metadata": {},
   "outputs": [],
   "source": [
    "#13. Program to get a string which is n (non-negative integer) copies of a given string"
   ]
  },
  {
   "cell_type": "code",
   "execution_count": 11,
   "metadata": {},
   "outputs": [
    {
     "name": "stdout",
     "output_type": "stream",
     "text": [
      " abc abc\n",
      " pqr pqr pqr\n"
     ]
    }
   ],
   "source": [
    "def larger_string(str, n):\n",
    "    result = \"\"\n",
    "    for i in range(n):\n",
    "        result = result + \" \" + str\n",
    "    return result\n",
    "\n",
    "print(larger_string('abc', 2))\n",
    "print(larger_string('pqr', 3))"
   ]
  },
  {
   "cell_type": "code",
   "execution_count": 22,
   "metadata": {},
   "outputs": [
    {
     "name": "stdout",
     "output_type": "stream",
     "text": [
      "Enter any number34\n",
      "This is an even number\n"
     ]
    }
   ],
   "source": [
    "''' 14. program to find whether a given number (accept from the user) is even or odd,\n",
    "print out an appropriate message to the user.'''\n",
    "\n",
    "num = int(input(\"Enter any number\"))\n",
    "mod = num % 2\n",
    "\n",
    "if mod > 0:\n",
    "    print(\"This is an odd number\")\n",
    "else:\n",
    "    print(\"This is an even number\")"
   ]
  },
  {
   "cell_type": "code",
   "execution_count": 16,
   "metadata": {},
   "outputs": [
    {
     "name": "stdout",
     "output_type": "stream",
     "text": [
      "2183920\n"
     ]
    }
   ],
   "source": [
    "'''15. program to concatenate all elements in a list into a string and return it'''\n",
    "def concatenate_list_data(list):\n",
    "    result = ''\n",
    "    for element in list:\n",
    "        result += str(element)\n",
    "    return result \n",
    "\n",
    "print(concatenate_list_data([2, 18, 39, 20]))\n"
   ]
  },
  {
   "cell_type": "code",
   "execution_count": 14,
   "metadata": {},
   "outputs": [
    {
     "name": "stdout",
     "output_type": "stream",
     "text": [
      "{'white', 'yellow'}\n"
     ]
    }
   ],
   "source": [
    "'''16.  Program to print out a set containing all the colors from list_1 which are not present in list_2. '''\n",
    "\n",
    "list_1 = set([\"red\", \"white\", \"yellow\", \"pink\"])\n",
    "list_2 = set([\"red\", \"black\", \"pink\", \"purple\"])\n",
    "print(list_1.difference(list_2))\n"
   ]
  },
  {
   "cell_type": "code",
   "execution_count": 3,
   "metadata": {},
   "outputs": [
    {
     "name": "stdout",
     "output_type": "stream",
     "text": [
      "False\n",
      "True\n"
     ]
    }
   ],
   "source": [
    "'''17. Program to test whether a passed letter is a vowel or not '''\n",
    "def is_vowel(char):\n",
    "    all_vowels= 'aeiou'\n",
    "    return char in all_vowels\n",
    "\n",
    "print(is_vowel('c'))\n",
    "print(is_vowel('e'))"
   ]
  },
  {
   "cell_type": "code",
   "execution_count": 4,
   "metadata": {},
   "outputs": [
    {
     "name": "stdout",
     "output_type": "stream",
     "text": [
      "64\n"
     ]
    }
   ],
   "source": [
    "'''18.  Program to determine if a Python shell is executing in 32bit or 64bit mode on OS'''\n",
    "# For 32 bit it will return 32 and for 64 bit it will return 64\n",
    "import struct\n",
    "print(struct.calcsize(\"P\") * 8)"
   ]
  },
  {
   "cell_type": "code",
   "execution_count": 10,
   "metadata": {},
   "outputs": [
    {
     "name": "stdout",
     "output_type": "stream",
     "text": [
      "2.0\n"
     ]
    }
   ],
   "source": [
    "'''19. program to compute the distance between the points (x1, y1) and (x2, y2)'''\n",
    "import math\n",
    "p1 = [0, 0]\n",
    "p2 = [2, 0]\n",
    "distance = math.sqrt((p2[0] - p1[0])**2) + ((p2[1] - p1[1])**2)\n",
    "print(distance)"
   ]
  },
  {
   "cell_type": "code",
   "execution_count": 11,
   "metadata": {},
   "outputs": [
    {
     "name": "stdout",
     "output_type": "stream",
     "text": [
      "Enter the base of the triangle in cm = 10\n",
      "Enter the height of the triangle in cm = 5\n",
      "The area of the triangle in cm so calculated is =  25.0\n"
     ]
    }
   ],
   "source": [
    "'''20.  Program that will accept the base and height of a triangle and compute the area'''\n",
    "\n",
    "base = int(input(\"Enter the base of the triangle in cm = \"))\n",
    "hgt = int(input(\"Enter the height of the triangle in cm = \"))\n",
    "area = 1/2*base*hgt\n",
    "print(\"The area of the triangle in cm so calculated is = \", area)"
   ]
  },
  {
   "cell_type": "code",
   "execution_count": 1,
   "metadata": {},
   "outputs": [
    {
     "name": "stdout",
     "output_type": "stream",
     "text": [
      "4\n"
     ]
    }
   ],
   "source": [
    "'''21.  program to find out the number of CPUs using.'''\n",
    "import multiprocessing\n",
    "print(multiprocessing.cpu_count())"
   ]
  },
  {
   "cell_type": "code",
   "execution_count": 2,
   "metadata": {},
   "outputs": [
    {
     "name": "stdout",
     "output_type": "stream",
     "text": [
      "['__doc__', '__loader__', '__name__', '__package__', '__spec__', 'acos', 'acosh', 'asin', 'asinh', 'atan', 'atan2', 'atanh', 'ceil', 'copysign', 'cos', 'cosh', 'degrees', 'e', 'erf', 'erfc', 'exp', 'expm1', 'fabs', 'factorial', 'floor', 'fmod', 'frexp', 'fsum', 'gamma', 'gcd', 'hypot', 'inf', 'isclose', 'isfinite', 'isinf', 'isnan', 'ldexp', 'lgamma', 'log', 'log10', 'log1p', 'log2', 'modf', 'nan', 'pi', 'pow', 'radians', 'remainder', 'sin', 'sinh', 'sqrt', 'tan', 'tanh', 'tau', 'trunc']\n"
     ]
    }
   ],
   "source": [
    "# 22. the details of math module\n",
    "# Imports the math module\n",
    "import math            \n",
    "#Sets everything to a list of math module\n",
    "math_ls = dir(math)  \n",
    "print(math_ls)"
   ]
  },
  {
   "cell_type": "code",
   "execution_count": 3,
   "metadata": {},
   "outputs": [
    {
     "name": "stdout",
     "output_type": "stream",
     "text": [
      "BS662TU\n"
     ]
    }
   ],
   "source": [
    "'''23. Program to get the current username'''\n",
    "import getpass\n",
    "print(getpass.getuser())"
   ]
  }
 ],
 "metadata": {
  "kernelspec": {
   "display_name": "Python 3",
   "language": "python",
   "name": "python3"
  },
  "language_info": {
   "codemirror_mode": {
    "name": "ipython",
    "version": 3
   },
   "file_extension": ".py",
   "mimetype": "text/x-python",
   "name": "python",
   "nbconvert_exporter": "python",
   "pygments_lexer": "ipython3",
   "version": "3.7.3"
  }
 },
 "nbformat": 4,
 "nbformat_minor": 2
}
